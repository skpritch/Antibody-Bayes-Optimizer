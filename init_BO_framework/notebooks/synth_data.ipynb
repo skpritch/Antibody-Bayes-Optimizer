{
 "cells": [
  {
   "cell_type": "code",
   "execution_count": 27,
   "metadata": {},
   "outputs": [],
   "source": [
    "import os\n",
    "import numpy as np\n",
    "import pandas as pd\n",
    "\n",
    "# --- parameters ---\n",
    "FUNCS = ['FE', 'FM', 'FD']\n",
    "DIMS  = [2, 5, 10, 20]\n",
    "N     = 50\n",
    "\n",
    "data_dir = '../datsets/synth_data'\n",
    "os.makedirs(data_dir, exist_ok=True)\n",
    "def FE(x: np.ndarray) -> np.ndarray:\n",
    "    d = x.shape[1]\n",
    "    return -np.sum((x - 5)**2, axis=1) / d + np.exp(-np.sum(x**2, axis=1)) + 25\n",
    "\n",
    "def FM(x: np.ndarray) -> np.ndarray:\n",
    "    d = x.shape[1]\n",
    "    return np.sum(x**4 - 16*(x**2) + 5*x, axis=1) / d\n",
    "\n",
    "def FD(x: np.ndarray) -> np.ndarray:\n",
    "    return np.sum(np.sqrt(x) * np.sin(x), axis=1)\n",
    "for func in FUNCS:\n",
    "    for dim in DIMS:\n",
    "        # sample inputs\n",
    "        X = np.random.uniform(0, 10, size=(N, dim))\n",
    "        # evaluate\n",
    "        if func == 'FE':\n",
    "            y = FE(X)\n",
    "        elif func == 'FM':\n",
    "            y = FM(X)\n",
    "        else:  # 'FD'\n",
    "            y = FD(X)\n",
    "\n",
    "        # assemble DataFrame\n",
    "        cols = [f'x{i+1}' for i in range(dim)]\n",
    "        df = pd.DataFrame(X, columns=cols)\n",
    "        df['y'] = y\n",
    "\n",
    "        # write newline-delimited JSON\n",
    "        out_path = os.path.join(data_dir, f\"{func}_d{dim}_N{N}.json\")\n",
    "        df.to_json(out_path, orient='records', lines=True)\n"
   ]
  }
 ],
 "metadata": {
  "kernelspec": {
   "display_name": "mpnn_env",
   "language": "python",
   "name": "python3"
  },
  "language_info": {
   "codemirror_mode": {
    "name": "ipython",
    "version": 3
   },
   "file_extension": ".py",
   "mimetype": "text/x-python",
   "name": "python",
   "nbconvert_exporter": "python",
   "pygments_lexer": "ipython3",
   "version": "3.10.17"
  }
 },
 "nbformat": 4,
 "nbformat_minor": 2
}
