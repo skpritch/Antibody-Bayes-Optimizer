{
 "cells": [
  {
   "cell_type": "code",
   "execution_count": 1,
   "metadata": {},
   "outputs": [],
   "source": [
    "#Imports\n",
    "import sys\n",
    "sys.path.append('../scripts/')\n",
    "\n",
    "import os\n",
    "import numpy as np\n",
    "import pandas as pd\n",
    "from bayes_optimizer import BayesianOptimizer\n",
    "from helpers import FE, FM, FD, find_global_max\n",
    "from utils import load_data, preprocess\n",
    "from make_graphs import plot_suggestions, plot_convergence, plot_dataset\n",
    "\n",
    "import warnings\n",
    "warnings.filterwarnings(\"ignore\")\n"
   ]
  },
  {
   "cell_type": "code",
   "execution_count": 2,
   "metadata": {},
   "outputs": [],
   "source": [
    "# 2) Configuration: choose function, feature columns, target, data path\n",
    "FUNC_NAME = \"FE\"                                # or \"FM\", \"FD\"\n",
    "FUNC = {\"FE\": FE, \"FM\": FM, \"FD\": FD}[FUNC_NAME]\n",
    "FEATURE_COLUMNS = [f\"x{i+1}\" for i in range(2)]  # e.g. 5-D\n",
    "TARGET_COLUMN = \"y\"\n",
    "DATA_PATH = f\"../datasets/synth_data/{FUNC_NAME}_d{len(FEATURE_COLUMNS)}_N50.json\"\n"
   ]
  },
  {
   "cell_type": "code",
   "execution_count": 3,
   "metadata": {},
   "outputs": [],
   "source": [
    "# 3) Load & preprocess\n",
    "x_raw, y, df = load_data(DATA_PATH, FEATURE_COLUMNS, TARGET_COLUMN)\n",
    "x_init, scaler = preprocess(x_raw)\n",
    "bounds = [[0,10]] * len(FEATURE_COLUMNS)\n"
   ]
  },
  {
   "cell_type": "code",
   "execution_count": 4,
   "metadata": {},
   "outputs": [],
   "source": [
    "# 4) Instantiate and run the optimizer\n",
    "bo = BayesianOptimizer(\n",
    "    func=FUNC,\n",
    "    feature_columns=FEATURE_COLUMNS,\n",
    "    target_column=TARGET_COLUMN,\n",
    "    surrogate_kind=\"gp\",\n",
    "    opt_method=\"grad_opt\",\n",
    "    acq=\"ei\",\n",
    "    seed=37\n",
    ")\n",
    "x_all, y_all, pred_y, y_train_max = bo.optimize(x_init, y, bounds, n_iter=30)\n",
    "bounds_arr = np.array(bounds)\n",
    "global_x, global_max = find_global_max(FUNC, bounds_arr)\n"
   ]
  },
  {
   "cell_type": "code",
   "execution_count": 5,
   "metadata": {},
   "outputs": [],
   "source": [
    "# 5) Convergence plot\n",
    "plot_convergence(pred_y, y_train_max, global_max, f\"{FUNC_NAME}_d{len(FEATURE_COLUMNS)}\", out_dir=\"../results/synth_results/\")\n"
   ]
  },
  {
   "cell_type": "code",
   "execution_count": 6,
   "metadata": {},
   "outputs": [],
   "source": [
    "# 6) Full-dataset scatter\n",
    "#plot_dataset(df, FEATURE_COLUMNS[0], TARGET_COLUMN, FUNC_NAME, len(FEATURE_COLUMNS), out_dir=\"../results/synth_results/\")\n"
   ]
  },
  {
   "cell_type": "code",
   "execution_count": 7,
   "metadata": {},
   "outputs": [],
   "source": [
    "# 7) Suggested‐points scatter\n",
    "#   best points across iterations:\n",
    "best_idx = int(np.argmax(pred_y))\n",
    "best_x = x_all[-len(pred_y):][best_idx]\n",
    "best_y = pred_y[best_idx]\n",
    "plot_suggestions(\n",
    "    df,\n",
    "    FEATURE_COLUMNS[0],\n",
    "    global_max,\n",
    "    [best_x[0]],\n",
    "    [best_y],\n",
    "    TARGET_COLUMN,\n",
    "    FUNC_NAME,\n",
    "    len(FEATURE_COLUMNS),\n",
    "    out_dir=\"../results/synth_results/\"\n",
    ")"
   ]
  }
 ],
 "metadata": {
  "kernelspec": {
   "display_name": "mpnn_env",
   "language": "python",
   "name": "python3"
  },
  "language_info": {
   "codemirror_mode": {
    "name": "ipython",
    "version": 3
   },
   "file_extension": ".py",
   "mimetype": "text/x-python",
   "name": "python",
   "nbconvert_exporter": "python",
   "pygments_lexer": "ipython3",
   "version": "3.10.17"
  }
 },
 "nbformat": 4,
 "nbformat_minor": 2
}
