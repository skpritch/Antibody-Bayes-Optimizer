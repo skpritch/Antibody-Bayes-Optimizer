{
 "cells": [
  {
   "cell_type": "code",
   "execution_count": null,
   "id": "b988ff9f",
   "metadata": {},
   "outputs": [],
   "source": [
    "# Cell 1: Imports & ground_truth\n",
    "import pandas as pd\n",
    "import numpy as np\n",
    "\n",
    "import sys\n",
    "sys.path.append('../src/')\n",
    "from embeddings.esmc_encoder import embed_sequences, embed_single\n",
    "\n",
    "def ground_truth(x: np.ndarray) -> np.ndarray:\n",
    "    \"\"\"\n",
    "    Toy landscape: many optima, nonconvex.\n",
    "    Replace with your real assay when ready.\n",
    "    \"\"\"\n",
    "    # x: (N, D)\n",
    "    return np.sum((x - 0.5) ** 2, axis=1) + np.sin(5 * np.sum(x, axis=1))"
   ]
  },
  {
   "cell_type": "code",
   "execution_count": null,
   "id": "ada9d7f6",
   "metadata": {},
   "outputs": [],
   "source": [
    "# Cell 2: Load your sequences JSON\n",
    "# Assumes: one record per line, with at least a \"sequence\" field.\n",
    "df = pd.read_json(\"../data/raw/input_sequences.json\", lines=True)\n",
    "df.head(3)"
   ]
  },
  {
   "cell_type": "code",
   "execution_count": 3,
   "id": "f028b62d",
   "metadata": {},
   "outputs": [
    {
     "name": "stderr",
     "output_type": "stream",
     "text": [
      "ESM-C embedding:   0%|          | 0/2000 [00:00<?, ?it/s]"
     ]
    },
    {
     "data": {
      "application/vnd.jupyter.widget-view+json": {
       "model_id": "9e98339c6ad047dbaab80cb5f9629657",
       "version_major": 2,
       "version_minor": 0
      },
      "text/plain": [
       "Fetching 4 files:   0%|          | 0/4 [00:00<?, ?it/s]"
      ]
     },
     "metadata": {},
     "output_type": "display_data"
    },
    {
     "name": "stderr",
     "output_type": "stream",
     "text": [
      "/Users/simonpritchard/miniconda3/envs/bayes_opt/lib/python3.10/site-packages/esm/pretrained.py:74: FutureWarning: You are using `torch.load` with `weights_only=False` (the current default value), which uses the default pickle module implicitly. It is possible to construct malicious pickle data which will execute arbitrary code during unpickling (See https://github.com/pytorch/pytorch/blob/main/SECURITY.md#untrusted-models for more details). In a future release, the default value for `weights_only` will be flipped to `True`. This limits the functions that could be executed during unpickling. Arbitrary objects will no longer be allowed to be loaded via this mode unless they are explicitly allowlisted by the user via `torch.serialization.add_safe_globals`. We recommend you start setting `weights_only=True` for any use case where you don't have full control of the loaded file. Please open an issue on GitHub for any issues related to this experimental feature.\n",
      "  state_dict = torch.load(\n",
      "ESM-C embedding: 100%|██████████| 2000/2000 [11:17<00:00,  2.95it/s]\n"
     ]
    }
   ],
   "source": [
    "# Cell 3: Embed all sequences\n",
    "df = embed_sequences(df, seq_col=\"sequence\", n_components=1024)"
   ]
  },
  {
   "cell_type": "code",
   "execution_count": 4,
   "id": "8ce577d5",
   "metadata": {},
   "outputs": [],
   "source": [
    "# Extract the PCA embedding matrix:\n",
    "X = np.vstack(df[\"embedding_pca1024\"].values).astype(np.float32)"
   ]
  },
  {
   "cell_type": "code",
   "execution_count": 5,
   "id": "3fc50089",
   "metadata": {},
   "outputs": [],
   "source": [
    "# Cell 4: Compute noiseless ground truth\n",
    "y_true = ground_truth(X)"
   ]
  },
  {
   "cell_type": "code",
   "execution_count": 6,
   "id": "9ae24371",
   "metadata": {},
   "outputs": [],
   "source": [
    "# Cell 5: Add three fidelity levels via noise\n",
    "# e.g. low fidelity = heavy noise, high fidelity = light noise\n",
    "noise_levels = {\n",
    "    \"y_low\": 0.3,      # large noise\n",
    "    \"y_medium\": 0.1,   # moderate noise\n",
    "    \"y_high\": 0.01,    # small noise\n",
    "}\n",
    "for col, sigma in noise_levels.items():\n",
    "    df[col] = y_true + np.random.normal(0, sigma, size=len(y_true))\n",
    "\n",
    "drop_cols = [col for col in df.columns if col.startswith(\"embedding_\")]\n",
    "df = df.drop(columns=drop_cols)"
   ]
  },
  {
   "cell_type": "code",
   "execution_count": 7,
   "id": "4e131504",
   "metadata": {},
   "outputs": [
    {
     "name": "stdout",
     "output_type": "stream",
     "text": [
      "                                            sequence       y_low    y_medium  \\\n",
      "0  EVQLVESGGGLVQPGGSLRLSCAASGFTFKSYAMDWVRQAPGKQRE... -267.424127 -267.561455   \n",
      "1  EVQLVESGGGLVQPGGSLRLSCAASGFTFKSYAMDWVRQAPGKQRE... -267.612351 -267.202450   \n",
      "2  EVQLVESGGGLVQPGGSLRLSCAASGFTFKSYAMDWVRQAPGKQRE... -270.539386 -270.320750   \n",
      "3  EVQLVESGGGLVQPGGSLRLSCAASGFTFKSYAMDWVRQAPGKQRE... -274.479366 -274.162201   \n",
      "4  EVQLVESGGGLVQPGGSLRLSCAASGFTFKSYAMDWVRQAPGKQRE... -274.999357 -274.873697   \n",
      "\n",
      "       y_high  \n",
      "0 -267.465345  \n",
      "1 -267.164703  \n",
      "2 -270.202944  \n",
      "3 -274.071817  \n",
      "4 -274.816321  \n"
     ]
    }
   ],
   "source": [
    "# Cell 6: Quick check & save\n",
    "print(df[[\"sequence\", \"y_low\", \"y_medium\", \"y_high\"]].head())\n",
    "df.to_json(\"../data/raw/cd98_2000_seq.jsonl\", orient=\"records\", lines=True)"
   ]
  }
 ],
 "metadata": {
  "kernelspec": {
   "display_name": "bayes_opt",
   "language": "python",
   "name": "python3"
  },
  "language_info": {
   "codemirror_mode": {
    "name": "ipython",
    "version": 3
   },
   "file_extension": ".py",
   "mimetype": "text/x-python",
   "name": "python",
   "nbconvert_exporter": "python",
   "pygments_lexer": "ipython3",
   "version": "3.10.18"
  }
 },
 "nbformat": 4,
 "nbformat_minor": 5
}
