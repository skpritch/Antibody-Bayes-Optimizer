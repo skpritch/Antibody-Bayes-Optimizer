{
 "cells": [
  {
   "cell_type": "code",
   "execution_count": null,
   "id": "5b8c59bf",
   "metadata": {},
   "outputs": [],
   "source": [
    "import pandas as pd\n",
    "from os import sys\n",
    "sys.path.append('../src/')\n",
    "\n",
    "from utils.utils import populate_training_metrics\n",
    "from utils.make_graphs import plot_batch_means, plot_topology_3d\n",
    "\n",
    "# Paths to your JSONL files\n",
    "train_json = \"../data/interim/cd98_10k/cd98_biophi_1024.jsonl\"\n",
    "sim_json_low   = \"../data/processed/cd98_10k/cd98_10k_v3/cd98_final_1024_low.jsonl\"\n",
    "sim_json_high = \"../data/processed/cd98_10k/cd98_10k_v1/cd98_final_1024_high.jsonl\""
   ]
  },
  {
   "cell_type": "code",
   "execution_count": null,
   "id": "07ae0977",
   "metadata": {},
   "outputs": [],
   "source": [
    "# 1) Populate missing training metrics\n",
    "complete_df_low = populate_training_metrics(\n",
    "   train_jsonl=train_json,\n",
    "   sim_jsonl=sim_json_low,\n",
    "   output_jsonl=\"../data/processed/cd98_10k/cd98_low.jsonl\"\n",
    ")\n",
    "print(f\"Loaded cd98_low.jsonl with {len(complete_df_low)} records.\")\n",
    "display(complete_df_low.head())"
   ]
  },
  {
   "cell_type": "code",
   "execution_count": null,
   "id": "49e24036",
   "metadata": {},
   "outputs": [],
   "source": [
    "# 1) Populate missing training metrics\n",
    "complete_df_high = populate_training_metrics(\n",
    "   train_jsonl=train_json,\n",
    "   sim_jsonl=sim_json_high,\n",
    "   output_jsonl=\"../data/processed/cd98_10k/cd98_high.jsonl\"\n",
    ")\n",
    "print(f\"Loaded cd98_high.jsonl with {len(complete_df_high)} records.\")\n",
    "display(complete_df_high.head())"
   ]
  },
  {
   "cell_type": "code",
   "execution_count": null,
   "id": "c8ca3f4d",
   "metadata": {},
   "outputs": [],
   "source": [
    "# 2) Line plot of batch means\n",
    "plot_batch_means(\n",
    "   jsonl_paths=[\"../data/processed/cd98_10k/cd98_high.jsonl\", \"../data/processed/cd98_10k/cd98_low.jsonl\",],\n",
    "   metric=\"y_high\",\n",
    "   labels=[\"20 Iterations, 10 Sequences Batches\", \"4 Iterations, 50 Sequences Batches\"],\n",
    "   title=\"Mean In-Silico Fitness Across Rounds Bayesian Optimization\",\n",
    "   xlabel=\"BO Iteration\",\n",
    "   ylabel=\"Mean Fitness\",\n",
    "   save_path=None   # or \"batch_means.png\"\n",
    ")"
   ]
  },
  {
   "cell_type": "code",
   "execution_count": null,
   "id": "752bcb4f",
   "metadata": {},
   "outputs": [],
   "source": [
    "plot_topology_3d(\n",
    "   jsonl_path=\"../data/processed/cd98_10k/cd98_low.jsonl\",\n",
    "   reduce_method=\"umap\",       # or \"tsne\"\n",
    "   grid_size=60,\n",
    "   cmap_name=\"Reds\",\n",
    "   elev=90,\n",
    "   azim=180,\n",
    "   connect_line_color=\"red\",\n",
    "   connect_line_width=2.5,\n",
    "   save_path=None\n",
    ")"
   ]
  },
  {
   "cell_type": "code",
   "execution_count": null,
   "id": "445f084c",
   "metadata": {},
   "outputs": [],
   "source": [
    "plot_topology_3d(\n",
    "   jsonl_path=\"../data/processed/cd98_10k/cd98_low.jsonl\",\n",
    "   reduce_method=\"umap\",       # or \"tsne\"\n",
    "   grid_size=60,\n",
    "   cmap_name=\"Reds\",\n",
    "   elev=90,\n",
    "   azim=180,\n",
    "   connect_line_color=\"red\",\n",
    "   connect_line_width=2.5,\n",
    "   save_path=None\n",
    ")"
   ]
  },
  {
   "cell_type": "code",
   "execution_count": null,
   "id": "ec409771",
   "metadata": {},
   "outputs": [],
   "source": [
    "plot_topology_3d(\n",
    "   jsonl_path=\"../data/processed/cd98_10k/cd98_high.jsonl\",\n",
    "   reduce_method=\"umap\",       # or \"tsne\"\n",
    "   grid_size=60,\n",
    "   cmap_name=\"Reds\",\n",
    "   elev=5,\n",
    "   azim=135,\n",
    "   connect_line_color=\"red\",\n",
    "   connect_line_width=2.5,\n",
    "   save_path=None\n",
    ")"
   ]
  },
  {
   "cell_type": "code",
   "execution_count": null,
   "id": "14c67cc5",
   "metadata": {},
   "outputs": [],
   "source": [
    "plot_topology_3d(\n",
    "   jsonl_path=\"../data/processed/cd98_10k/cd98_high.jsonl\",\n",
    "   reduce_method=\"umap\",       # or \"tsne\"\n",
    "   metric=\"y_high\",\n",
    "   grid_size=60,\n",
    "   cmap_name=\"Reds\",\n",
    "   elev=90,\n",
    "   azim=180,\n",
    "   connect_line_color=\"red\",\n",
    "   connect_line_width=2.5,\n",
    "   save_path=None\n",
    ")\n"
   ]
  },
  {
   "cell_type": "code",
   "execution_count": null,
   "id": "ea977ef6",
   "metadata": {},
   "outputs": [],
   "source": [
    "# 2) Line plot of batch means\n",
    "plot_batch_means(\n",
    "   jsonl_paths=[\"../data/processed/cd98_10k/cd98_high.jsonl\", \"../data/processed/cd98_10k/cd98_low.jsonl\",],\n",
    "   metric=\"dev_score\",\n",
    "   labels=[\"20 Iterations, 10 Sequences Batches\", \"4 Iterations, 50 Sequences Batches\"],\n",
    "   title=\"Mean Dev_Score Across Rounds Bayesian Optimization\",\n",
    "   xlabel=\"BO Iteration\",\n",
    "   ylabel=\"Developability Score\",\n",
    "   save_path=None   # or \"batch_means.png\"\n",
    ")"
   ]
  },
  {
   "cell_type": "code",
   "execution_count": null,
   "id": "559c1f8b",
   "metadata": {},
   "outputs": [],
   "source": [
    "plot_topology_3d(\n",
    "   jsonl_path=\"../data/processed/cd98_10k/cd98_low.jsonl\",\n",
    "   reduce_method=\"umap\",       # or \"tsne\"\n",
    "   metric=\"dev_score\",\n",
    "   grid_size=60,\n",
    "   cmap_name=\"Reds\",\n",
    "   elev=30,\n",
    "   azim=135,\n",
    "   connect_line_color=\"red\",\n",
    "   connect_line_width=2.5,\n",
    "   save_path=None\n",
    ")"
   ]
  },
  {
   "cell_type": "code",
   "execution_count": null,
   "id": "0cd1f405",
   "metadata": {},
   "outputs": [],
   "source": [
    "plot_topology_3d(\n",
    "   jsonl_path=\"../data/processed/cd98_10k/cd98_low.jsonl\",\n",
    "   reduce_method=\"umap\",       # or \"tsne\"\n",
    "   metric=\"dev_score\",\n",
    "   grid_size=60,\n",
    "   cmap_name=\"Reds\",\n",
    "   elev=0,\n",
    "   azim=135,\n",
    "   connect_line_color=\"red\",\n",
    "   connect_line_width=2.5,\n",
    "   save_path=None\n",
    ")"
   ]
  },
  {
   "cell_type": "code",
   "execution_count": null,
   "id": "034a805e",
   "metadata": {},
   "outputs": [],
   "source": [
    "plot_topology_3d(\n",
    "   jsonl_path=\"../data/processed/cd98_10k/cd98_high.jsonl\",\n",
    "   reduce_method=\"umap\",       # or \"tsne\"\n",
    "   metric=\"dev_score\",\n",
    "   grid_size=60,\n",
    "   cmap_name=\"Reds\",\n",
    "   elev=40,\n",
    "   azim=135,\n",
    "   connect_line_color=\"red\",\n",
    "   connect_line_width=2.5,\n",
    "   save_path=None\n",
    ")"
   ]
  },
  {
   "cell_type": "code",
   "execution_count": null,
   "id": "69830bf3",
   "metadata": {},
   "outputs": [],
   "source": [
    "plot_topology_3d(\n",
    "   jsonl_path=\"../data/processed/cd98_10k/cd98_high.jsonl\",\n",
    "   reduce_method=\"umap\",       # or \"tsne\"\n",
    "   metric=\"dev_score\",\n",
    "   grid_size=60,\n",
    "   cmap_name=\"Reds\",\n",
    "   elev=5,\n",
    "   azim=135,\n",
    "   connect_line_color=\"red\",\n",
    "   connect_line_width=2.5,\n",
    "   save_path=None\n",
    ")"
   ]
  }
 ],
 "metadata": {
  "language_info": {
   "name": "python"
  }
 },
 "nbformat": 4,
 "nbformat_minor": 5
}
