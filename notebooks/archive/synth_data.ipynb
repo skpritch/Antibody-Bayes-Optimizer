{
 "cells": [
  {
   "cell_type": "code",
   "execution_count": null,
   "metadata": {},
   "outputs": [],
   "source": [
    "import os\n",
    "import numpy as np\n",
    "import pandas as pd\n",
    "# --- ground truth functions ---\n",
    "def ground_truth(x: np.ndarray) -> np.ndarray:\n",
    "    \"\"\"\n",
    "    Some arbitrarily defined function (e.g. affinity).\n",
    "    \"\"\"\n",
    "    return -np.sum((x - 0.5) ** 2, axis=1) + np.sin(5 * np.sum(x, axis=1))\n",
    "\n",
    "def ground_truth2(x: np.ndarray) -> np.ndarray:\n",
    "    \"\"\"\n",
    "    Some arbitrary function meant to model an additional condition (e.g. developability).\n",
    "    \"\"\"\n",
    "    return np.sum(np.sqrt(x) * np.sin(x), axis=1)"
   ]
  },
  {
   "cell_type": "code",
   "execution_count": 3,
   "metadata": {},
   "outputs": [],
   "source": [
    "# --- data generation ---\n",
    "def generate_data(embed_dim: int, n_samples: int, ground_truth_fn,\n",
    "    noise_levels: dict[str, float], output_dir: str):\n",
    "    \"\"\"\n",
    "    Generate one synthetic dataset:\n",
    "      1) Uniform X in [0,1]^embed_dim, shape=(n_samples, embed_dim)\n",
    "      2) Apply ground_truth_fn to get y_true\n",
    "      3) For each fidelity in noise_levels, add Gaussian noise\n",
    "      4) Save a newline-delimited JSON with columns:\n",
    "           'embedding' (list), plus y_{fidelity} for each fidelity.\n",
    "    \"\"\"\n",
    "    # ensure output dir\n",
    "    os.makedirs(output_dir, exist_ok=True)\n",
    "\n",
    "    # 1) sample inputs\n",
    "    X = np.random.uniform(0, 1, size=(n_samples, embed_dim))\n",
    "    # 2) compute true values\n",
    "    y_true = ground_truth_fn(X)\n",
    "\n",
    "    # 3) build DataFrame\n",
    "    df = pd.DataFrame({\n",
    "        'embedding': [x.tolist() for x in X]\n",
    "    })\n",
    "    # 4) add noisy outputs\n",
    "    for label, sigma in noise_levels.items():\n",
    "        df[f'y_{label}'] = y_true + np.random.normal(0, sigma, size=y_true.shape)\n",
    "\n",
    "    # 5) write to file\n",
    "    fname = f'synth_D{embed_dim}_N{n_samples}_{ground_truth_fn.__name__}.json'\n",
    "    out_path = os.path.join(output_dir, fname)\n",
    "    df.to_json(out_path, orient='records', lines=True)\n",
    "    print(f\"Saved: {out_path}\")"
   ]
  },
  {
   "cell_type": "code",
   "execution_count": 4,
   "metadata": {},
   "outputs": [
    {
     "name": "stdout",
     "output_type": "stream",
     "text": [
      "Saved: ../data/raw/synth_data/synth_D2_N100_ground_truth.json\n",
      "Saved: ../data/raw/synth_data/synth_D2_N1000_ground_truth.json\n",
      "Saved: ../data/raw/synth_data/synth_D2_N10000_ground_truth.json\n",
      "Saved: ../data/raw/synth_data/synth_D2_N100000_ground_truth.json\n",
      "Saved: ../data/raw/synth_data/synth_D2_N240000_ground_truth.json\n",
      "Saved: ../data/raw/synth_data/synth_D4_N100_ground_truth.json\n",
      "Saved: ../data/raw/synth_data/synth_D4_N1000_ground_truth.json\n",
      "Saved: ../data/raw/synth_data/synth_D4_N10000_ground_truth.json\n",
      "Saved: ../data/raw/synth_data/synth_D4_N100000_ground_truth.json\n",
      "Saved: ../data/raw/synth_data/synth_D4_N240000_ground_truth.json\n",
      "Saved: ../data/raw/synth_data/synth_D8_N100_ground_truth.json\n",
      "Saved: ../data/raw/synth_data/synth_D8_N1000_ground_truth.json\n",
      "Saved: ../data/raw/synth_data/synth_D8_N10000_ground_truth.json\n",
      "Saved: ../data/raw/synth_data/synth_D8_N100000_ground_truth.json\n",
      "Saved: ../data/raw/synth_data/synth_D8_N240000_ground_truth.json\n",
      "Saved: ../data/raw/synth_data/synth_D16_N100_ground_truth.json\n",
      "Saved: ../data/raw/synth_data/synth_D16_N1000_ground_truth.json\n",
      "Saved: ../data/raw/synth_data/synth_D16_N10000_ground_truth.json\n",
      "Saved: ../data/raw/synth_data/synth_D16_N100000_ground_truth.json\n",
      "Saved: ../data/raw/synth_data/synth_D16_N240000_ground_truth.json\n",
      "Saved: ../data/raw/synth_data/synth_D32_N100_ground_truth.json\n",
      "Saved: ../data/raw/synth_data/synth_D32_N1000_ground_truth.json\n",
      "Saved: ../data/raw/synth_data/synth_D32_N10000_ground_truth.json\n",
      "Saved: ../data/raw/synth_data/synth_D32_N100000_ground_truth.json\n",
      "Saved: ../data/raw/synth_data/synth_D32_N240000_ground_truth.json\n",
      "Saved: ../data/raw/synth_data/synth_D64_N100_ground_truth.json\n",
      "Saved: ../data/raw/synth_data/synth_D64_N1000_ground_truth.json\n",
      "Saved: ../data/raw/synth_data/synth_D64_N10000_ground_truth.json\n",
      "Saved: ../data/raw/synth_data/synth_D64_N100000_ground_truth.json\n",
      "Saved: ../data/raw/synth_data/synth_D64_N240000_ground_truth.json\n",
      "Saved: ../data/raw/synth_data/synth_D256_N100_ground_truth.json\n",
      "Saved: ../data/raw/synth_data/synth_D256_N1000_ground_truth.json\n",
      "Saved: ../data/raw/synth_data/synth_D256_N10000_ground_truth.json\n",
      "Saved: ../data/raw/synth_data/synth_D256_N100000_ground_truth.json\n",
      "Saved: ../data/raw/synth_data/synth_D256_N240000_ground_truth.json\n",
      "Saved: ../data/raw/synth_data/synth_D512_N100_ground_truth.json\n",
      "Saved: ../data/raw/synth_data/synth_D512_N1000_ground_truth.json\n",
      "Saved: ../data/raw/synth_data/synth_D512_N10000_ground_truth.json\n",
      "Saved: ../data/raw/synth_data/synth_D512_N100000_ground_truth.json\n",
      "Saved: ../data/raw/synth_data/synth_D512_N240000_ground_truth.json\n",
      "Saved: ../data/raw/synth_data/synth_D1024_N100_ground_truth.json\n",
      "Saved: ../data/raw/synth_data/synth_D1024_N1000_ground_truth.json\n",
      "Saved: ../data/raw/synth_data/synth_D1024_N10000_ground_truth.json\n",
      "Saved: ../data/raw/synth_data/synth_D1024_N100000_ground_truth.json\n",
      "Saved: ../data/raw/synth_data/synth_D1024_N240000_ground_truth.json\n"
     ]
    }
   ],
   "source": [
    "EMBED_DIMS = {2, 4, 8, 16, 32, 64, 256, 512, 1024}\n",
    "N_SAMPLES  = {100, 1_000, 10_000, 100_000, 240_000}\n",
    "NOISE_LEVELS = {\n",
    "    'low':    1.0,\n",
    "    'medium': 0.5,\n",
    "    'high':   0.1 }\n",
    "OUTPUT_DIR = '../data/raw/synth_data'\n",
    "\n",
    "for d in sorted(EMBED_DIMS):\n",
    "    for n in sorted(N_SAMPLES):\n",
    "        generate_data(d, n, ground_truth, NOISE_LEVELS, OUTPUT_DIR)"
   ]
  }
 ],
 "metadata": {
  "kernelspec": {
   "display_name": "bayes_opt",
   "language": "python",
   "name": "python3"
  },
  "language_info": {
   "codemirror_mode": {
    "name": "ipython",
    "version": 3
   },
   "file_extension": ".py",
   "mimetype": "text/x-python",
   "name": "python",
   "nbconvert_exporter": "python",
   "pygments_lexer": "ipython3",
   "version": "3.10.18"
  }
 },
 "nbformat": 4,
 "nbformat_minor": 2
}
