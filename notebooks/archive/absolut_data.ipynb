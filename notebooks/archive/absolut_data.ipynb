{
 "cells": [
  {
   "cell_type": "code",
   "execution_count": null,
   "metadata": {},
   "outputs": [],
   "source": [
    "from pathlib import Path\n",
    "\n",
    "# 1. Input/Output paths\n",
    "INPUT_JSON    = \"input_cdrh3.json\"\n",
    "CDRH3_TXT     = \"cdrh3_list.txt\"\n",
    "ANTIGEN_PDB   = \"../data/raw/CD98_HC.pdb\"\n",
    "THREADS       = \"8\"\n",
    "\n",
    "# 2. Absolut invocation\n",
    "# — after 'pip install -e .', you can call it directly:\n",
    "ABSOLUT_BIN   = \"Absolut\"\n",
    "# Or, if you haven’t installed it:\n",
    "# ABSOLUT_BIN = \"python3 /Users/simonpritchard/.../Absolut/bin/Absolut\"\n",
    "\n",
    "# 3. Derive filenames from the PDB stem\n",
    "pdb_stem      = Path(ANTIGEN_PDB).stem\n",
    "out_dir       = Path(f\"../data/processed/absolut\")\n",
    "out_dir.mkdir(parents=True, exist_ok=True)\n",
    "\n",
    "BINDINGS_FILE = out_dir / f\"{pdb_stem}FinalBindings_Process_1_Of_1.txt\"\n",
    "FEATURES_OUT  = out_dir / f\"{pdb_stem}_out.txt\"\n",
    "OUTPUT_JSON   = out_dir / f\"{pdb_stem}_results.json\"\n"
   ]
  }
 ],
 "metadata": {
  "kernelspec": {
   "display_name": "bayes_opt",
   "language": "python",
   "name": "python3"
  },
  "language_info": {
   "name": "python",
   "version": "3.10.18"
  }
 },
 "nbformat": 4,
 "nbformat_minor": 2
}
